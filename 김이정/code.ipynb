{
 "cells": [
  {
   "cell_type": "markdown",
   "id": "017e9265",
   "metadata": {
    "id": "017e9265"
   },
   "source": [
    "# 제품 이상여부 판별 프로젝트\n"
   ]
  },
  {
   "cell_type": "markdown",
   "id": "acdab431",
   "metadata": {
    "id": "acdab431"
   },
   "source": [
    "## 1. 데이터 불러오기\n"
   ]
  },
  {
   "cell_type": "markdown",
   "id": "2b8341e8",
   "metadata": {
    "id": "2b8341e8"
   },
   "source": [
    "### 필수 라이브러리\n"
   ]
  },
  {
   "cell_type": "code",
   "execution_count": 2,
   "id": "a315cc58",
   "metadata": {
    "id": "a315cc58"
   },
   "outputs": [],
   "source": [
    "import os\n",
    "from pprint import pprint\n",
    "\n",
    "import numpy as np\n",
    "import pandas as pd\n",
    "from sklearn.ensemble import RandomForestClassifier\n",
    "from sklearn.metrics import (\n",
    "    accuracy_score,\n",
    "    classification_report,\n",
    "    confusion_matrix,\n",
    "    f1_score,\n",
    "    precision_score,\n",
    "    recall_score,\n",
    ")\n",
    "from sklearn.model_selection import train_test_split\n",
    "from tqdm import tqdm"
   ]
  },
  {
   "cell_type": "markdown",
   "id": "4d054e30",
   "metadata": {
    "id": "4d054e30"
   },
   "source": [
    "### 데이터 읽어오기\n"
   ]
  },
  {
   "cell_type": "code",
   "execution_count": 8,
   "id": "fc0b4d80",
   "metadata": {
    "colab": {
     "base_uri": "https://localhost:8080/"
    },
    "id": "fc0b4d80",
    "outputId": "30977b9a-51b2-48c2-a9bd-e86d998d17ed"
   },
   "outputs": [
    {
     "name": "stdout",
     "output_type": "stream",
     "text": [
      "<class 'pandas.core.frame.DataFrame'>\n",
      "RangeIndex: 40506 entries, 0 to 40505\n",
      "Columns: 151 entries, Equipment_Dam to target\n",
      "dtypes: float64(68), int64(62), object(21)\n",
      "memory usage: 46.7+ MB\n"
     ]
    }
   ],
   "source": [
    "ROOT_DIR = \"data\"\n",
    "RANDOM_STATE = 110\n",
    "\n",
    "# 훈련 데이터셋 확인\n",
    "# base_line에서 train_data -> df_train으로 수정\n",
    "df_train = pd.read_csv(os.path.join(ROOT_DIR, \"train1.csv\"))\n",
    "\n",
    "df_train.info()"
   ]
  },
  {
   "cell_type": "code",
   "execution_count": 10,
   "id": "603c33af",
   "metadata": {
    "colab": {
     "base_uri": "https://localhost:8080/",
     "height": 631
    },
    "id": "603c33af",
    "outputId": "553ad7f5-3c29-496b-b5c9-62e59c9925d7"
   },
   "outputs": [
    {
     "data": {
      "text/plain": [
       "Equipment_Dam     Model.Suffix_Dam  Workorder_Dam  CURE END POSITION X Collect Result_Dam  CURE END POSITION Z Collect Result_Dam  CURE END POSITION Θ Collect Result_Dam  CURE SPEED Collect Result_Dam  CURE START POSITION X Collect Result_Dam  CURE START POSITION Θ Collect Result_Dam  DISCHARGED SPEED OF RESIN Collect Result_Dam  DISCHARGED TIME OF RESIN(Stage1) Collect Result_Dam  DISCHARGED TIME OF RESIN(Stage2) Collect Result_Dam  DISCHARGED TIME OF RESIN(Stage3) Collect Result_Dam  Dispense Volume(Stage1) Collect Result_Dam  Dispense Volume(Stage2) Collect Result_Dam  Dispense Volume(Stage3) Collect Result_Dam  HEAD NORMAL COORDINATE X AXIS(Stage1) Collect Result_Dam  HEAD NORMAL COORDINATE X AXIS(Stage1) Judge Value_Dam  HEAD NORMAL COORDINATE X AXIS(Stage2) Collect Result_Dam  HEAD NORMAL COORDINATE X AXIS(Stage3) Collect Result_Dam  HEAD NORMAL COORDINATE Y AXIS(Stage1) Collect Result_Dam  HEAD NORMAL COORDINATE Y AXIS(Stage2) Collect Result_Dam  HEAD NORMAL COORDINATE Y AXIS(Stage3) Collect Result_Dam  HEAD NORMAL COORDINATE Z AXIS(Stage1) Collect Result_Dam  HEAD NORMAL COORDINATE Z AXIS(Stage2) Collect Result_Dam  HEAD NORMAL COORDINATE Z AXIS(Stage3) Collect Result_Dam  HEAD Standby Position X Collect Result_Dam  HEAD Standby Position Y Collect Result_Dam  HEAD Standby Position Z Collect Result_Dam  Head Clean Position X Collect Result_Dam  Head Clean Position Y Collect Result_Dam  Head Clean Position Z Collect Result_Dam  Head Purge Position X Collect Result_Dam  Head Purge Position Y Collect Result_Dam  Head Purge Position Z Collect Result_Dam  Head Zero Position X Collect Result_Dam  Head Zero Position Y Collect Result_Dam  Head Zero Position Z Collect Result_Dam  Machine Tact time Collect Result_Dam  PalletID Collect Result_Dam  Production Qty Collect Result_Dam  Receip No Collect Result_Dam  Stage1 Circle1 Distance Speed Collect Result_Dam  Stage1 Circle2 Distance Speed Collect Result_Dam  Stage1 Circle3 Distance Speed Collect Result_Dam  Stage1 Circle4 Distance Speed Collect Result_Dam  Stage1 Line1 Distance Speed Collect Result_Dam  Stage1 Line2 Distance Speed Collect Result_Dam  Stage1 Line3 Distance Speed Collect Result_Dam  Stage1 Line4 Distance Speed Collect Result_Dam  Stage2 Circle1 Distance Speed Collect Result_Dam  Stage2 Circle2 Distance Speed Collect Result_Dam  Stage2 Circle3 Distance Speed Collect Result_Dam  Stage2 Circle4 Distance Speed Collect Result_Dam  Stage2 Line1 Distance Speed Collect Result_Dam  Stage2 Line2 Distance Speed Collect Result_Dam  Stage2 Line3 Distance Speed Collect Result_Dam  Stage2 Line4 Distance Speed Collect Result_Dam  Stage3 Circle1 Distance Speed Collect Result_Dam  Stage3 Circle2 Distance Speed Collect Result_Dam  Stage3 Circle3 Distance Speed Collect Result_Dam  Stage3 Circle4 Distance Speed Collect Result_Dam  Stage3 Line1 Distance Speed Collect Result_Dam  Stage3 Line2 Distance Speed Collect Result_Dam  Stage3 Line3 Distance Speed Collect Result_Dam  Stage3 Line4 Distance Speed Collect Result_Dam  THICKNESS 1 Collect Result_Dam  THICKNESS 2 Collect Result_Dam  THICKNESS 3 Collect Result_Dam  WorkMode Collect Result_Dam  Model.Suffix_AutoClave  Workorder_AutoClave  1st Pressure Collect Result_AutoClave  1st Pressure 1st Pressure Unit Time_AutoClave  2nd Pressure Collect Result_AutoClave  2nd Pressure Unit Time_AutoClave  3rd Pressure Collect Result_AutoClave  3rd Pressure Unit Time_AutoClave  Chamber Temp. Collect Result_AutoClave  Chamber Temp. Unit Time_AutoClave  Chamber Temp. Judge Value_AutoClave  GMES_ORIGIN_INSP_JUDGE_CODE Collect Result_AutoClave  GMES_ORIGIN_INSP_JUDGE_CODE Judge Value_AutoClave  Equipment_Fill1     Model.Suffix_Fill1  Workorder_Fill1  DISCHARGED SPEED OF RESIN Collect Result_Fill1  DISCHARGED TIME OF RESIN(Stage1) Collect Result_Fill1  DISCHARGED TIME OF RESIN(Stage2) Collect Result_Fill1  DISCHARGED TIME OF RESIN(Stage3) Collect Result_Fill1  Dispense Volume(Stage1) Collect Result_Fill1  Dispense Volume(Stage2) Collect Result_Fill1  Dispense Volume(Stage3) Collect Result_Fill1  HEAD NORMAL COORDINATE X AXIS(Stage1) Collect Result_Fill1  HEAD NORMAL COORDINATE X AXIS(Stage1) Judge Value_Fill1  HEAD NORMAL COORDINATE X AXIS(Stage2) Collect Result_Fill1  HEAD NORMAL COORDINATE X AXIS(Stage3) Collect Result_Fill1  HEAD NORMAL COORDINATE Y AXIS(Stage1) Collect Result_Fill1  HEAD NORMAL COORDINATE Y AXIS(Stage2) Collect Result_Fill1  HEAD NORMAL COORDINATE Y AXIS(Stage3) Collect Result_Fill1  HEAD NORMAL COORDINATE Z AXIS(Stage1) Collect Result_Fill1  HEAD NORMAL COORDINATE Z AXIS(Stage2) Collect Result_Fill1  HEAD NORMAL COORDINATE Z AXIS(Stage3) Collect Result_Fill1  HEAD Standby Position X Collect Result_Fill1  HEAD Standby Position Y Collect Result_Fill1  HEAD Standby Position Z Collect Result_Fill1  Head Clean Position X Collect Result_Fill1  Head Clean Position Y Collect Result_Fill1  Head Clean Position Z Collect Result_Fill1  Head Purge Position X Collect Result_Fill1  Head Purge Position Y Collect Result_Fill1  Head Purge Position Z Collect Result_Fill1  Machine Tact time Collect Result_Fill1  PalletID Collect Result_Fill1  Production Qty Collect Result_Fill1  Receip No Collect Result_Fill1  WorkMode Collect Result_Fill1  Equipment_Fill2     Model.Suffix_Fill2  Workorder_Fill2  CURE END POSITION X Collect Result_Fill2  CURE END POSITION Z Collect Result_Fill2  CURE SPEED Collect Result_Fill2  CURE STANDBY POSITION Z Collect Result_Fill2  CURE START POSITION X Collect Result_Fill2  CURE START POSITION Z Collect Result_Fill2  HEAD NORMAL COORDINATE X AXIS(Stage1) Collect Result_Fill2  HEAD NORMAL COORDINATE X AXIS(Stage1) Judge Value_Fill2  HEAD NORMAL COORDINATE X AXIS(Stage2) Collect Result_Fill2  HEAD NORMAL COORDINATE X AXIS(Stage3) Collect Result_Fill2  HEAD NORMAL COORDINATE Y AXIS(Stage1) Collect Result_Fill2  HEAD NORMAL COORDINATE Y AXIS(Stage2) Collect Result_Fill2  HEAD NORMAL COORDINATE Y AXIS(Stage3) Collect Result_Fill2  HEAD NORMAL COORDINATE Z AXIS(Stage1) Collect Result_Fill2  HEAD NORMAL COORDINATE Z AXIS(Stage2) Collect Result_Fill2  HEAD NORMAL COORDINATE Z AXIS(Stage3) Collect Result_Fill2  HEAD Standby Position X Collect Result_Fill2  HEAD Standby Position Y Collect Result_Fill2  HEAD Standby Position Z Collect Result_Fill2  Head Clean Position X Collect Result_Fill2  Head Clean Position Y Collect Result_Fill2  Head Clean Position Z Collect Result_Fill2  Head Purge Position X Collect Result_Fill2  Head Purge Position Y Collect Result_Fill2  Head Purge Position Z Collect Result_Fill2  Machine Tact time Collect Result_Fill2  PalletID Collect Result_Fill2  Production Qty Collect Result_Fill2  Receip No Collect Result_Fill2  WorkMode Collect Result_Fill2  target\n",
       "Dam dispenser #1  AJX75334501       3M1XC491-1     240.0                                   2.5                                     -90                                     70                             1030                                      -90                                       16                                            13.1                                                 6.5                                                  13.2                                                 0.91                                        0.45                                        0.92                                        OK                                                        OK                                                     550.4                                                     463.7                                                     161.3                                                     377.6                                                     377.1                                                     377.6                                                     282.500                                                   282.500                                                   282.500                                     257                                         66                                          0.0                                       127.5                                     66.0                                      130.85                                    257                                       66.0                                      130.85                                   505.0                                    300.0                                    265.02                                53.4                         4                                  421                           1                                                 6500                                              6500                                              6500                                              6500                                            6500                                            6500                                            6500                                            6500                                              6500                                              6500                                              6500                                              6500                                            6500                                            6500                                            6500                                            6500                                              6500                                              6500                                              6500                                              6500                                            6500                                            6500                                            6500                                            6500                             0.000                           0.000                          0.000                        AJX75334501             3M1XC491-1           0.316                                  241                                            0.490                                  1                                 0.499                                  121                               49                                      363                                NG                                   OK                                                    OK                                                 Fill1 dispenser #1  AJX75334501         3M1XC491-1       10.6                                            12.9                                                   3.8                                                    12.9                                                   12.25                                         3.61                                          12.25                                         OK                                                          OK                                                       838.4                                                       458.4                                                       157.0                                                       430.8                                                       430.5                                                       431.1                                                       244.400                                                     244.400                                                     244.400                                       289                                           50                                            0.0                                         123.4                                       50.0                                        92.2                                        289                                         50                                          128.0                                   53.6                           4                                    421                             1                              Fill2 dispenser #1  AJX75334501         3M1XC491-1       240                                       33                                        50                               33                                            1020                                        33                                          OK                                                          OK                                                       835.5                                                       458.0                                                       156.0                                                       428.0                                                       427.9                                                       428.0                                                       243.7                                                       243.7                                                       243.7                                         270                                           50                                            -10                                         119                                         50.0                                        91.8                                        270                                         50                                          85.0                                    19.5                           4                                    421                             1                              Normal    1\n",
       "Dam dispenser #2  AJX75334501       4A1XB532-1     1000.0                                  12.5                                     90                                     70                             280                                        90                                       16                                            13.2                                                 7.6                                                  13.2                                                 0.92                                        0.53                                        0.92                                        OK                                                        OK                                                     162.7                                                     465.7                                                     552.0                                                     1271.8                                                    1383.9                                                    1271.8                                                    280.894                                                   280.894                                                   280.894                                     257                                         66                                          0.0                                       127.5                                     66.0                                      130.85                                    257                                       66.0                                      130.85                                   505.0                                    300.0                                    265.02                                57.9                         10                                 461                           1                                                 6500                                              6500                                              6500                                              6500                                            6500                                            6500                                            6500                                            6500                                              6500                                              6500                                              6500                                              6500                                            5500                                            6500                                            5500                                            6500                                              6500                                              6500                                              6500                                              6500                                            6500                                            6500                                            6500                                            6500                             0.000                           0.000                          0.000                        AJX75334501             4A1XB532-1           0.305                                  241                                            0.490                                  1                                 0.499                                  121                               54                                      363                                OK                                   OK                                                    OK                                                 Fill1 dispenser #2  AJX75334501         4A1XB532-1       10.6                                            12.9                                                   3.6                                                    12.9                                                   12.25                                         3.42                                          12.25                                         OK                                                          OK                                                       837.4                                                       457.8                                                       156.3                                                       1323.5                                                      1322.5                                                      1323.1                                                      244.275                                                     244.275                                                     244.275                                       289                                           50                                            0.0                                         123.4                                       50.0                                        92.2                                        289                                         50                                          128.0                                   57.3                           10                                   461                             1                              Fill2 dispenser #2  AJX75334501         4A1XB532-1       240                                       33                                        50                               33                                            1020                                        33                                          OK                                                          OK                                                       305.0                                                       499.8                                                       694.0                                                       1324.2                                                      1324.2                                                      1324.2                                                      243.5                                                       243.5                                                       243.5                                         270                                           50                                            -10                                         119                                         50.0                                        91.8                                        270                                         50                                          85.0                                    20.0                           10                                   461                             1                              Normal    1\n",
       "                                    4A1XB541-1     1000.0                                  12.5                                     90                                     70                             280                                        90                                       16                                            13.2                                                 7.6                                                  13.1                                                 0.92                                        0.53                                        0.91                                        OK                                                        OK                                                     162.7                                                     465.7                                                     552.0                                                     1271.8                                                    1383.9                                                    1271.8                                                    280.894                                                   280.894                                                   280.894                                     257                                         66                                          0.0                                       127.5                                     66.0                                      130.85                                    257                                       66.0                                      130.85                                   505.0                                    300.0                                    265.02                                60.3                         12                                 48                            1                                                 6500                                              6500                                              6500                                              6500                                            6500                                            6500                                            6500                                            6500                                              6500                                              6500                                              6500                                              6500                                            5500                                            6500                                            5500                                            6500                                              6500                                              6500                                              6500                                              6500                                            6500                                            6500                                            6500                                            6500                             0.000                           0.000                          0.000                        AJX75334501             4A1XB541-1           0.300                                  241                                            0.491                                  1                                 0.500                                  121                               49                                      363                                NG                                   OK                                                    OK                                                 Fill1 dispenser #2  AJX75334501         4A1XB541-1       10.6                                            12.9                                                   3.6                                                    12.9                                                   12.25                                         3.42                                          12.25                                         OK                                                          OK                                                       837.4                                                       457.8                                                       156.3                                                       1323.5                                                      1322.5                                                      1323.1                                                      244.275                                                     244.275                                                     244.275                                       289                                           50                                            0.0                                         123.4                                       50.0                                        92.2                                        289                                         50                                          128.0                                   57.5                           12                                   48                              1                              Fill2 dispenser #2  AJX75334501         4A1XB541-1       240                                       33                                        50                               33                                            1020                                        33                                          OK                                                          OK                                                       305.0                                                       499.8                                                       694.0                                                       1324.2                                                      1324.2                                                      1324.2                                                      243.5                                                       243.5                                                       243.5                                         270                                           50                                            -10                                         119                                         50.0                                        91.8                                        270                                         50                                          85.0                                    20.2                           12                                   48                              1                              Normal    1\n",
       "                                                                                                                                                                                                                                                                                                                                                                                                                                                      13.2                                                 0.92                                        0.53                                        0.92                                        OK                                                        OK                                                     162.7                                                     465.7                                                     552.0                                                     1271.8                                                    1383.9                                                    1271.8                                                    280.894                                                   280.894                                                   280.894                                     257                                         66                                          0.0                                       127.5                                     66.0                                      130.85                                    257                                       66.0                                      130.85                                   505.0                                    300.0                                    265.02                                54.5                         11                                 84                            1                                                 6500                                              6500                                              6500                                              6500                                            6500                                            6500                                            6500                                            6500                                              6500                                              6500                                              6500                                              6500                                            5500                                            6500                                            5500                                            6500                                              6500                                              6500                                              6500                                              6500                                            6500                                            6500                                            6500                                            6500                             0.000                           0.000                          0.000                        AJX75334501             4A1XB541-1           0.309                                  241                                            0.491                                  1                                 0.498                                  121                               51                                      363                                OK                                   OK                                                    OK                                                 Fill1 dispenser #2  AJX75334501         4A1XB541-1       10.6                                            12.9                                                   3.6                                                    12.9                                                   12.25                                         3.42                                          12.25                                         OK                                                          OK                                                       837.4                                                       457.8                                                       156.3                                                       1323.5                                                      1322.5                                                      1323.1                                                      244.275                                                     244.275                                                     244.275                                       289                                           50                                            0.0                                         123.4                                       50.0                                        92.2                                        289                                         50                                          128.0                                   49.2                           11                                   84                              1                              Fill2 dispenser #2  AJX75334501         4A1XB541-1       240                                       33                                        50                               33                                            1020                                        33                                          OK                                                          OK                                                       305.0                                                       499.8                                                       694.0                                                       1324.2                                                      1324.2                                                      1324.2                                                      243.5                                                       243.5                                                       243.5                                         270                                           50                                            -10                                         119                                         50.0                                        91.8                                        270                                         50                                          85.0                                    19.7                           11                                   84                              1                              Normal    1\n",
       "                                                                                                                                                                                                                                                                                                                                                                                                                                                                                                                                                                                                                                                                                                                                                                                                                                                                                                                                                                                                                                                                                                                                                                                                                                                                                                                                                                                                                                                                                                                                                                                                                                                                                                                                                                                                                 57.5                         11                                 146                           1                                                 6500                                              6500                                              6500                                              6500                                            6500                                            6500                                            6500                                            6500                                              6500                                              6500                                              6500                                              6500                                            5500                                            6500                                            5500                                            6500                                              6500                                              6500                                              6500                                              6500                                            6500                                            6500                                            6500                                            6500                             0.000                           0.000                          0.000                        AJX75334501             4A1XB541-1           0.303                                  241                                            0.490                                  1                                 0.498                                  121                               53                                      363                                OK                                   OK                                                    OK                                                 Fill1 dispenser #2  AJX75334501         4A1XB541-1       10.6                                            12.9                                                   3.6                                                    12.9                                                   12.25                                         3.42                                          12.25                                         OK                                                          OK                                                       837.4                                                       457.8                                                       156.3                                                       1323.5                                                      1322.5                                                      1323.1                                                      244.275                                                     244.275                                                     244.275                                       289                                           50                                            0.0                                         123.4                                       50.0                                        92.2                                        289                                         50                                          128.0                                   57.4                           11                                   146                             1                              Fill2 dispenser #2  AJX75334501         4A1XB541-1       240                                       33                                        50                               33                                            1020                                        33                                          OK                                                          OK                                                       305.0                                                       499.8                                                       694.0                                                       1324.2                                                      1324.2                                                      1324.2                                                      243.5                                                       243.5                                                       243.5                                         270                                           50                                            -10                                         119                                         50.0                                        91.8                                        270                                         50                                          85.0                                    20.1                           11                                   146                             1                              Normal    1\n",
       "                                                                                                                                                                                                                                                                                                                                                                                                                                                                                                                                                                                                                                                                                                                                                                                                                                                                                                                                                                                                                                                                                                                                                                                                                                                                                                                                                                                                                                                                                                                                                                                                                                                                                                                                                                                                                                                                                                                                                                                                                                                                                                                                                                                                                                                                                                                                                                                                                                                                                                                                                                                                                                                                                                                                                                                                                                                                                                                                                                                                                                                                                                                                                                                                                                                                                                                                                                                                                                                                                                                                                                                                                                                                                                                                                                                                                                                                                                                                                                                                                                                                                                                                                                                                                                                                                                                                                                                                                                                                                                                                                                                                                                                                                                                                                                                                                                                                                                                                                                                                                                                                                                                                                                                                                                                                                                                                                                                                                                                                                                                                                                                                                                                                                                                                                                                                                                                                                                                                                                                                                                                                                                                                                                                                                                                                                                                                                                                                                                                                                                                                                                                                                                                                                                                                                                                                                                                                                                                                                                           ..\n",
       "Dam dispenser #1  AJX75334501       4B1XC588-1     240.0                                   2.5                                     -90                                     70                             1030                                      -90                                       16                                            14.2                                                 8.2                                                  14.3                                                 0.99                                        0.57                                        1.00                                        OK                                                        OK                                                     550.6                                                     463.9                                                     161.5                                                     377.6                                                     377.1                                                     378.0                                                     274.400                                                   274.400                                                   274.400                                     257                                         66                                          0.0                                       127.5                                     66.0                                      124.00                                    257                                       66.0                                      130.85                                   505.0                                    300.0                                    265.02                                61.4                         3                                  170                           1                                                 6000                                              6000                                              6000                                              6000                                            6000                                            6000                                            6000                                            6000                                              5500                                              5500                                              5500                                              5500                                            5500                                            5500                                            5500                                            5500                                              6000                                              6000                                              6000                                              6000                                            6000                                            6000                                            6000                                            6000                            -0.054                          -0.219                          0.007                        AJX75334501             4B1XC588-1           0.298                                  241                                            0.582                                  1                                 0.598                                  121                               53                                      363                                OK                                   OK                                                    OK                                                 Fill1 dispenser #1  AJX75334501         4B1XC588-1       10.6                                            12.9                                                   3.6                                                    12.9                                                   12.25                                         3.42                                          12.25                                         OK                                                          OK                                                       838.4                                                       458.4                                                       157.0                                                       430.8                                                       430.5                                                       431.1                                                       244.618                                                     244.618                                                     244.618                                       289                                           50                                            0.0                                         123.4                                       50.0                                        92.2                                        289                                         50                                          128.0                                   56.3                           3                                    170                             1                              Fill2 dispenser #1  AJX75334501         4B1XC588-1       240                                       33                                        50                               33                                            1020                                        33                                          OK                                                          OK                                                       835.5                                                       458.0                                                       156.0                                                       428.0                                                       427.9                                                       428.0                                                       243.7                                                       243.7                                                       243.7                                         270                                           50                                            -10                                         119                                         50.0                                        91.8                                        270                                         50                                          85.0                                    20.0                           3                                    170                             1                              Normal    1\n",
       "                                                                                                                                                                                                                                                                                                                                                                                                                                                                                                                                                                                                                                                                                                                                                                                                                                                                                                                                                                                                                                                                                                                                                                                                                                                                                                                                                                                                                                                                                                                                                                                                                                                                                                                                                                                                                                              6                                  173                           1                                                 6000                                              6000                                              6000                                              6000                                            6000                                            6000                                            6000                                            6000                                              5500                                              5500                                              5500                                              5500                                            5500                                            5500                                            5500                                            5500                                              6000                                              6000                                              6000                                              6000                                            6000                                            6000                                            6000                                            6000                            -0.054                          -0.219                          0.007                        AJX75334501             4B1XC588-1           0.298                                  241                                            0.582                                  1                                 0.598                                  121                               53                                      363                                OK                                   OK                                                    OK                                                 Fill1 dispenser #1  AJX75334501         4B1XC588-1       10.6                                            12.8                                                   3.6                                                    12.9                                                   12.16                                         3.42                                          12.25                                         OK                                                          OK                                                       838.4                                                       458.4                                                       157.0                                                       430.8                                                       430.5                                                       431.1                                                       244.618                                                     244.618                                                     244.618                                       289                                           50                                            0.0                                         123.4                                       50.0                                        92.2                                        289                                         50                                          128.0                                   56.3                           6                                    173                             1                              Fill2 dispenser #1  AJX75334501         4B1XC588-1       240                                       33                                        50                               33                                            1020                                        33                                          OK                                                          OK                                                       835.5                                                       458.0                                                       156.0                                                       428.0                                                       427.9                                                       428.0                                                       243.7                                                       243.7                                                       243.7                                         270                                           50                                            -10                                         119                                         50.0                                        91.8                                        270                                         50                                          85.0                                    19.6                           6                                    173                             1                              Normal    1\n",
       "                                                                                                                                                                                                                                                                                                                                                                                                                                                                                                                                                                                                                                                                                                                                                                                                                                                                                                                                                                                                                                                                                                                                                                                                                                                                                                                                                                                                                                                                                                                                                                                                                                                                                                                                                                                                                 61.5                         2                                  169                           1                                                 6000                                              6000                                              6000                                              6000                                            6000                                            6000                                            6000                                            6000                                              5500                                              5500                                              5500                                              5500                                            5500                                            5500                                            5500                                            5500                                              6000                                              6000                                              6000                                              6000                                            6000                                            6000                                            6000                                            6000                            -0.054                          -0.219                          0.007                        AJX75334501             4B1XC588-1           0.298                                  241                                            0.582                                  1                                 0.598                                  121                               53                                      363                                OK                                   OK                                                    OK                                                 Fill1 dispenser #1  AJX75334501         4B1XC588-1       10.6                                            12.8                                                   3.6                                                    12.9                                                   12.16                                         3.42                                          12.25                                         OK                                                          OK                                                       838.4                                                       458.4                                                       157.0                                                       430.8                                                       430.5                                                       431.1                                                       244.618                                                     244.618                                                     244.618                                       289                                           50                                            0.0                                         123.4                                       50.0                                        92.2                                        289                                         50                                          128.0                                   56.3                           2                                    169                             1                              Fill2 dispenser #1  AJX75334501         4B1XC588-1       240                                       33                                        50                               33                                            1020                                        33                                          OK                                                          OK                                                       835.5                                                       458.0                                                       156.0                                                       428.0                                                       427.9                                                       428.0                                                       243.7                                                       243.7                                                       243.7                                         270                                           50                                            -10                                         119                                         50.0                                        91.8                                        270                                         50                                          85.0                                    19.6                           2                                    169                             1                              Normal    1\n",
       "                                                                                                                                                                                                                                                                                                                                                                                                                                                                                                                                                                                                                                                                                                                                                                                                                                                                                                                                                                                                                                                                                                                                                                                                                                                                                                                                                                                                                                                                                                                                                                                                                                                                                                                                                                                                                                              7                                  150                           1                                                 6000                                              6000                                              6000                                              6000                                            6000                                            6000                                            6000                                            6000                                              5500                                              5500                                              5500                                              5500                                            5500                                            5500                                            5500                                            5500                                              6000                                              6000                                              6000                                              6000                                            6000                                            6000                                            6000                                            6000                            -0.054                          -0.219                          0.007                        AJX75334501             4B1XC588-1           0.306                                  241                                            0.580                                  1                                 0.597                                  121                               52                                      363                                OK                                   OK                                                    OK                                                 Fill1 dispenser #1  AJX75334501         4B1XC588-1       10.6                                            12.8                                                   3.6                                                    12.9                                                   12.16                                         3.42                                          12.25                                         OK                                                          OK                                                       838.4                                                       458.4                                                       157.0                                                       430.8                                                       430.5                                                       431.1                                                       244.618                                                     244.618                                                     244.618                                       289                                           50                                            0.0                                         123.4                                       50.0                                        92.2                                        289                                         50                                          128.0                                   56.3                           7                                    150                             1                              Fill2 dispenser #1  AJX75334501         4B1XC588-1       240                                       33                                        50                               33                                            1020                                        33                                          OK                                                          OK                                                       835.5                                                       458.0                                                       156.0                                                       428.0                                                       427.9                                                       428.0                                                       243.7                                                       243.7                                                       243.7                                         270                                           50                                            -10                                         119                                         50.0                                        91.8                                        270                                         50                                          85.0                                    19.9                           7                                    150                             1                              Normal    1\n",
       "Dam dispenser #2  AJX75334508       4BPM0002-1     1000.0                                  12.5                                     90                                     100                            280                                        90                                       16                                            14.7                                                 8.6                                                  14.7                                                 1.02                                        0.60                                        1.02                                        OK                                                        OK                                                     162.4                                                     465.4                                                     551.7                                                     1271.8                                                    1383.9                                                    1271.8                                                    274.330                                                   274.330                                                   274.330                                     257                                         66                                          0.0                                       127.5                                     66.0                                      124.00                                    257                                       66.0                                      130.85                                   505.0                                    300.0                                    265.02                                78.6                         10                                 198                           1                                                 5800                                              5800                                              5800                                              5800                                            5800                                            5800                                            5800                                            5800                                              5300                                              5300                                              5300                                              5300                                            5300                                            5300                                            5300                                            5300                                              5800                                              5800                                              5800                                              5800                                            5800                                            5800                                            5800                                            5800                             0.000                           0.000                          0.000                        AJX75334508             4BPM0002-1           0.301                                  241                                            0.492                                  1                                 0.496                                  121                               54                                      363                                OK                                   OK                                                    OK                                                 Fill1 dispenser #2  AJX75334508         4BPM0002-1       10.6                                            13.5                                                   3.6                                                    13.4                                                   12.82                                         3.42                                          12.73                                         OK                                                          OK                                                       837.9                                                       458.1                                                       156.1                                                       1323.5                                                      1322.5                                                      1323.1                                                      244.415                                                     244.415                                                     244.415                                       289                                           50                                            0.0                                         123.4                                       50.0                                        92.2                                        289                                         50                                          128.0                                   58.6                           10                                   198                             1                              Fill2 dispenser #2  AJX75334508         4BPM0002-1       240                                       33                                        50                               33                                            1020                                        33                                          OK                                                          OK                                                       305.0                                                       499.8                                                       694.0                                                       1324.2                                                      1324.2                                                      1324.2                                                      243.5                                                       243.5                                                       243.5                                         270                                           50                                            -10                                         119                                         50.0                                        91.8                                        270                                         50                                          85.0                                    19.7                           10                                   198                             1                              Normal    1\n",
       "Name: count, Length: 11293, dtype: int64"
      ]
     },
     "execution_count": 10,
     "metadata": {},
     "output_type": "execute_result"
    }
   ],
   "source": [
    "train_data.value_counts()"
   ]
  },
  {
   "cell_type": "markdown",
   "id": "K2VURQJMWO6v",
   "metadata": {
    "id": "K2VURQJMWO6v"
   },
   "source": [
    "### 결측치 제거"
   ]
  },
  {
   "cell_type": "code",
   "execution_count": 11,
   "id": "Z0jAQw3_J3Eo",
   "metadata": {
    "id": "Z0jAQw3_J3Eo"
   },
   "outputs": [],
   "source": [
    "# 1. 결측치 제거 (필요)\n",
    "# 수치형 데이터에 대해 결측치-> 평균값으로 대체, 비수치형 데이터 결측치 -> 최빈값으로 대체\n",
    "numeric_columns = df_train.select_dtypes(include=['float64', 'int64']).columns\n",
    "non_numeric_columns = df_train.select_dtypes(exclude=['float64', 'int64']).columns\n",
    "\n",
    "\n",
    "df_train[numeric_columns] = df_train[numeric_columns].fillna(df_train[numeric_columns].mean())\n",
    "for col in non_numeric_columns:\n",
    "    df_train[col] = df_train[col].fillna(df_train[col].mode()[0])"
   ]
  },
  {
   "cell_type": "markdown",
   "id": "6118ae22",
   "metadata": {
    "id": "6118ae22"
   },
   "source": [
    "### 언더 샘플링\n"
   ]
  },
  {
   "cell_type": "markdown",
   "id": "97966549",
   "metadata": {
    "id": "97966549"
   },
   "source": [
    "- 데이터 불균형을 해결하기 위해 언더 샘플링\n",
    "- 데이터 불균형을 해결하기 위해 Normal 클래스의 샘플 수를 AbNormal 클래스와 동일하게 조정\n"
   ]
  },
  {
   "cell_type": "code",
   "execution_count": 12,
   "id": "be3d675d",
   "metadata": {
    "colab": {
     "base_uri": "https://localhost:8080/",
     "height": 197
    },
    "id": "be3d675d",
    "outputId": "992872a3-60cd-4825-e679-32041240e382"
   },
   "outputs": [
    {
     "name": "stdout",
     "output_type": "stream",
     "text": [
      "  Total: Normal: 38156, AbNormal: 2350\n"
     ]
    },
    {
     "data": {
      "text/plain": [
       "target\n",
       "AbNormal    2350\n",
       "Normal      2350\n",
       "Name: count, dtype: int64"
      ]
     },
     "execution_count": 12,
     "metadata": {},
     "output_type": "execute_result"
    }
   ],
   "source": [
    "# 언더샘플링 (Normal과 AbNormal의 비율을 1:1로 맞춤)\n",
    "\n",
    "normal_ratio = 1.0  # 1.0 means 1:1 ratio\n",
    "\n",
    "df_normal = train_data[train_data[\"target\"] == \"Normal\"]\n",
    "df_abnormal = train_data[train_data[\"target\"] == \"AbNormal\"]\n",
    "\n",
    "num_normal = len(df_normal)\n",
    "num_abnormal = len(df_abnormal)\n",
    "print(f\"  Total: Normal: {num_normal}, AbNormal: {num_abnormal}\")\n",
    "\n",
    "df_normal = df_normal.sample(n=int(num_abnormal * normal_ratio), replace=False, random_state=RANDOM_STATE)\n",
    "df_concat = pd.concat([df_normal, df_abnormal], axis=0).reset_index(drop=True)\n",
    "df_concat.value_counts(\"target\")"
   ]
  },
  {
   "cell_type": "code",
   "execution_count": 16,
   "id": "HaDvid_RMtfe",
   "metadata": {
    "id": "HaDvid_RMtfe"
   },
   "outputs": [],
   "source": [
    "# 피처 선택\n",
    "features = []\n",
    "for col in df_concat.columns:\n",
    "    try:\n",
    "        df_concat[col] = df_concat[col].astype(int)\n",
    "        features.append(col)\n",
    "    except:\n",
    "        continue\n",
    "\n",
    "\n",
    "# 타겟 변수와 피처 데이터 분리\n",
    "train_x = df_concat[features]\n",
    "train_y = df_concat[\"target\"]"
   ]
  },
  {
   "cell_type": "code",
   "execution_count": 17,
   "id": "CFmd0HnrKqSY",
   "metadata": {
    "id": "CFmd0HnrKqSY"
   },
   "outputs": [],
   "source": [
    "# 라이브러리 load\n",
    "\n",
    "from sklearn.model_selection import StratifiedKFold, GridSearchCV,RandomizedSearchCV\n",
    "from sklearn.model_selection import cross_val_score\n",
    "from sklearn.ensemble import RandomForestClassifier\n",
    "from sklearn.preprocessing import LabelEncoder\n",
    "from sklearn.metrics import accuracy_score"
   ]
  },
  {
   "cell_type": "markdown",
   "id": "rzeCT2WVLU0F",
   "metadata": {
    "id": "rzeCT2WVLU0F"
   },
   "source": [
    "## [ML1]교차 검증 수행\n",
    "\n",
    "- StratifiedKFold: 데이터를 5개의 폴드로 나누어, 타겟 변수의 비율을 각 폴드에 균등하게 유지\n",
    "- cross_val_score: 5-Fold 교차 검증을 수행하며, 각 폴드에서의 정확도를 측정\n"
   ]
  },
  {
   "cell_type": "markdown",
   "id": "dY5Ic85oGgg6",
   "metadata": {
    "id": "dY5Ic85oGgg6"
   },
   "source": [
    "### Validation  \n",
    "\n",
    "Train : 40506 행  \n",
    "Test : 17361 행 (Train의 약 40% )\n",
    "\n",
    "\n",
    "\n",
    "- Train으로 학습하고 Validation으로 검증하고 Test로 최종 성능을 평가\n",
    "- Train : Validation : Test = 6 : 2 : 2가 적당하지만 Test 데이터가 많음\n",
    "- Cross Validation 사용\n",
    "\n",
    "\n",
    "\n",
    "✅ **Cross Validation**\n",
    "- Training Set을 K-fold 방식으로 쪼개서 모든 데이터를 Training과 Validaion 과정에 사용\n",
    "\n",
    "\n"
   ]
  },
  {
   "cell_type": "code",
   "execution_count": 18,
   "id": "51rDipP4Wo97",
   "metadata": {
    "id": "51rDipP4Wo97"
   },
   "outputs": [],
   "source": [
    "# StratifiedKFold 설정 (5-fold)\n",
    "skf = StratifiedKFold(n_splits=5, shuffle=True, random_state=42)"
   ]
  },
  {
   "cell_type": "code",
   "execution_count": 19,
   "id": "wrhZmoT0Wsav",
   "metadata": {
    "id": "wrhZmoT0Wsav"
   },
   "outputs": [],
   "source": [
    "# RandomForestClassifier 초기화\n",
    "model = RandomForestClassifier(random_state=42)"
   ]
  },
  {
   "cell_type": "markdown",
   "id": "K2HfC15OUGHF",
   "metadata": {
    "id": "K2HfC15OUGHF"
   },
   "source": [
    "## [ML2] 하이퍼 파라미터 튜닝 수행\n",
    "\n",
    "- K-Fold 교차 검증을 통해 최적의 하이퍼파라미터를 찾기 위해서는, GridSearchCV 또는 RandomizedSearchCV\n",
    "-  그리드 서치(Grid Search)나 랜덤 서치(Randomized Search) 두 가지 방식을 모두 시도\n",
    "- Grid Search는 시간이 너무 오래걸려서 **랜덤 서치만 적용**"
   ]
  },
  {
   "cell_type": "code",
   "execution_count": 20,
   "id": "5YJ_euj4OE9Q",
   "metadata": {
    "id": "5YJ_euj4OE9Q"
   },
   "outputs": [],
   "source": [
    "# 하이퍼파라미터 범위 설정 (조합 축소)\n",
    "param_dist = {\n",
    "    'n_estimators': [100, 200],\n",
    "    'max_depth': [None, 10, 20],\n",
    "    'min_samples_split': [2, 5],\n",
    "    'min_samples_leaf': [1, 2],\n",
    "    'bootstrap': [True, False]\n",
    "}\n"
   ]
  },
  {
   "cell_type": "code",
   "execution_count": 21,
   "id": "9BSMw_9NPuh1",
   "metadata": {
    "colab": {
     "base_uri": "https://localhost:8080/"
    },
    "id": "9BSMw_9NPuh1",
    "outputId": "ae936663-95d7-49a5-aa44-14a4922f6b54"
   },
   "outputs": [
    {
     "name": "stdout",
     "output_type": "stream",
     "text": [
      "Fitting 5 folds for each of 10 candidates, totalling 50 fits\n"
     ]
    }
   ],
   "source": [
    "# RandomizedSearchCV 설정 (StratifiedKFold를 사용하여 교차 검증)\n",
    "## GridSearchCV는 시간이 너무 오래걸림\n",
    "random_search = RandomizedSearchCV(estimator=model, param_distributions=param_dist,\n",
    "                                   n_iter=10, cv=skf, verbose=2, random_state=42,\n",
    "                                   n_jobs=-1, scoring='accuracy')\n",
    "\n",
    "# RandomizedSearchCV를 사용하여 최적의 하이퍼파라미터 탐색\n",
    "random_search.fit(train_x, train_y)\n",
    "\n",
    "# 최적의 하이퍼파라미터와 그에 따른 최고 성능 출력\n",
    "best_params = random_search.best_params_\n",
    "best_score = random_search.best_score_"
   ]
  },
  {
   "cell_type": "code",
   "execution_count": 22,
   "id": "pjciJ5NGXFAk",
   "metadata": {
    "colab": {
     "base_uri": "https://localhost:8080/"
    },
    "id": "pjciJ5NGXFAk",
    "outputId": "157df0a6-6908-4ee4-8d90-15df75d116b3"
   },
   "outputs": [
    {
     "name": "stdout",
     "output_type": "stream",
     "text": [
      "Best Hyperparameters: {'n_estimators': 200, 'min_samples_split': 2, 'min_samples_leaf': 2, 'max_depth': 10, 'bootstrap': False}\n",
      "Best Validation Accuracy: 0.5985\n"
     ]
    }
   ],
   "source": [
    "# ✅ Validation Accuracy 확인\n",
    "print(f\"Best Hyperparameters: {best_params}\")\n",
    "print(f\"Best Validation Accuracy: {best_score:.4f}\")"
   ]
  },
  {
   "cell_type": "markdown",
   "id": "_UOk5iJvXM35",
   "metadata": {
    "id": "_UOk5iJvXM35"
   },
   "source": [
    "### 모델학습"
   ]
  },
  {
   "cell_type": "code",
   "execution_count": 23,
   "id": "ViDclXSpRY02",
   "metadata": {
    "colab": {
     "base_uri": "https://localhost:8080/",
     "height": 92
    },
    "id": "ViDclXSpRY02",
    "outputId": "92da4608-5d90-4c35-fc73-1c5851daee00"
   },
   "outputs": [
    {
     "data": {
      "text/html": [
       "<style>#sk-container-id-1 {color: black;background-color: white;}#sk-container-id-1 pre{padding: 0;}#sk-container-id-1 div.sk-toggleable {background-color: white;}#sk-container-id-1 label.sk-toggleable__label {cursor: pointer;display: block;width: 100%;margin-bottom: 0;padding: 0.3em;box-sizing: border-box;text-align: center;}#sk-container-id-1 label.sk-toggleable__label-arrow:before {content: \"▸\";float: left;margin-right: 0.25em;color: #696969;}#sk-container-id-1 label.sk-toggleable__label-arrow:hover:before {color: black;}#sk-container-id-1 div.sk-estimator:hover label.sk-toggleable__label-arrow:before {color: black;}#sk-container-id-1 div.sk-toggleable__content {max-height: 0;max-width: 0;overflow: hidden;text-align: left;background-color: #f0f8ff;}#sk-container-id-1 div.sk-toggleable__content pre {margin: 0.2em;color: black;border-radius: 0.25em;background-color: #f0f8ff;}#sk-container-id-1 input.sk-toggleable__control:checked~div.sk-toggleable__content {max-height: 200px;max-width: 100%;overflow: auto;}#sk-container-id-1 input.sk-toggleable__control:checked~label.sk-toggleable__label-arrow:before {content: \"▾\";}#sk-container-id-1 div.sk-estimator input.sk-toggleable__control:checked~label.sk-toggleable__label {background-color: #d4ebff;}#sk-container-id-1 div.sk-label input.sk-toggleable__control:checked~label.sk-toggleable__label {background-color: #d4ebff;}#sk-container-id-1 input.sk-hidden--visually {border: 0;clip: rect(1px 1px 1px 1px);clip: rect(1px, 1px, 1px, 1px);height: 1px;margin: -1px;overflow: hidden;padding: 0;position: absolute;width: 1px;}#sk-container-id-1 div.sk-estimator {font-family: monospace;background-color: #f0f8ff;border: 1px dotted black;border-radius: 0.25em;box-sizing: border-box;margin-bottom: 0.5em;}#sk-container-id-1 div.sk-estimator:hover {background-color: #d4ebff;}#sk-container-id-1 div.sk-parallel-item::after {content: \"\";width: 100%;border-bottom: 1px solid gray;flex-grow: 1;}#sk-container-id-1 div.sk-label:hover label.sk-toggleable__label {background-color: #d4ebff;}#sk-container-id-1 div.sk-serial::before {content: \"\";position: absolute;border-left: 1px solid gray;box-sizing: border-box;top: 0;bottom: 0;left: 50%;z-index: 0;}#sk-container-id-1 div.sk-serial {display: flex;flex-direction: column;align-items: center;background-color: white;padding-right: 0.2em;padding-left: 0.2em;position: relative;}#sk-container-id-1 div.sk-item {position: relative;z-index: 1;}#sk-container-id-1 div.sk-parallel {display: flex;align-items: stretch;justify-content: center;background-color: white;position: relative;}#sk-container-id-1 div.sk-item::before, #sk-container-id-1 div.sk-parallel-item::before {content: \"\";position: absolute;border-left: 1px solid gray;box-sizing: border-box;top: 0;bottom: 0;left: 50%;z-index: -1;}#sk-container-id-1 div.sk-parallel-item {display: flex;flex-direction: column;z-index: 1;position: relative;background-color: white;}#sk-container-id-1 div.sk-parallel-item:first-child::after {align-self: flex-end;width: 50%;}#sk-container-id-1 div.sk-parallel-item:last-child::after {align-self: flex-start;width: 50%;}#sk-container-id-1 div.sk-parallel-item:only-child::after {width: 0;}#sk-container-id-1 div.sk-dashed-wrapped {border: 1px dashed gray;margin: 0 0.4em 0.5em 0.4em;box-sizing: border-box;padding-bottom: 0.4em;background-color: white;}#sk-container-id-1 div.sk-label label {font-family: monospace;font-weight: bold;display: inline-block;line-height: 1.2em;}#sk-container-id-1 div.sk-label-container {text-align: center;}#sk-container-id-1 div.sk-container {/* jupyter's `normalize.less` sets `[hidden] { display: none; }` but bootstrap.min.css set `[hidden] { display: none !important; }` so we also need the `!important` here to be able to override the default hidden behavior on the sphinx rendered scikit-learn.org. See: https://github.com/scikit-learn/scikit-learn/issues/21755 */display: inline-block !important;position: relative;}#sk-container-id-1 div.sk-text-repr-fallback {display: none;}</style><div id=\"sk-container-id-1\" class=\"sk-top-container\"><div class=\"sk-text-repr-fallback\"><pre>RandomForestClassifier(bootstrap=False, max_depth=10, min_samples_leaf=2,\n",
       "                       n_estimators=200, random_state=42)</pre><b>In a Jupyter environment, please rerun this cell to show the HTML representation or trust the notebook. <br />On GitHub, the HTML representation is unable to render, please try loading this page with nbviewer.org.</b></div><div class=\"sk-container\" hidden><div class=\"sk-item\"><div class=\"sk-estimator sk-toggleable\"><input class=\"sk-toggleable__control sk-hidden--visually\" id=\"sk-estimator-id-1\" type=\"checkbox\" checked><label for=\"sk-estimator-id-1\" class=\"sk-toggleable__label sk-toggleable__label-arrow\">RandomForestClassifier</label><div class=\"sk-toggleable__content\"><pre>RandomForestClassifier(bootstrap=False, max_depth=10, min_samples_leaf=2,\n",
       "                       n_estimators=200, random_state=42)</pre></div></div></div></div></div>"
      ],
      "text/plain": [
       "RandomForestClassifier(bootstrap=False, max_depth=10, min_samples_leaf=2,\n",
       "                       n_estimators=200, random_state=42)"
      ]
     },
     "execution_count": 23,
     "metadata": {},
     "output_type": "execute_result"
    }
   ],
   "source": [
    "# 최적의 하이퍼파라미터로 모델 초기화 및 학습\n",
    "best_model = RandomForestClassifier(**best_params, random_state=42)\n",
    "best_model.fit(train_x, train_y)"
   ]
  },
  {
   "cell_type": "code",
   "execution_count": 24,
   "id": "Xi43zh9DXSBb",
   "metadata": {
    "colab": {
     "base_uri": "https://localhost:8080/"
    },
    "id": "Xi43zh9DXSBb",
    "outputId": "d73c1713-4a70-4615-b69e-db004f45fdfe"
   },
   "outputs": [
    {
     "name": "stdout",
     "output_type": "stream",
     "text": [
      "Train Accuracy: 0.7355\n"
     ]
    }
   ],
   "source": [
    "# ✅Train Accuracy 확인\n",
    "# 모델 학습 후 결과 확인 (전체 데이터셋에 대해)\n",
    "train_accuracy = best_model.score(train_x, train_y)\n",
    "print(f\"Train Accuracy: {train_accuracy:.4f}\")"
   ]
  },
  {
   "cell_type": "markdown",
   "id": "9d0b6e17",
   "metadata": {
    "id": "9d0b6e17"
   },
   "source": [
    "### 테스트 데이터 예측\n"
   ]
  },
  {
   "cell_type": "markdown",
   "id": "cda16350",
   "metadata": {
    "id": "cda16350"
   },
   "source": [
    "테스트 데이터 불러오기\n"
   ]
  },
  {
   "cell_type": "code",
   "execution_count": 30,
   "id": "HcEXLKbzZMyw",
   "metadata": {
    "id": "HcEXLKbzZMyw"
   },
   "outputs": [
    {
     "name": "stdout",
     "output_type": "stream",
     "text": [
      "<class 'pandas.core.frame.DataFrame'>\n",
      "RangeIndex: 17361 entries, 0 to 17360\n",
      "Columns: 465 entries, Set ID to target\n",
      "dtypes: float64(351), int64(77), object(37)\n",
      "memory usage: 61.6+ MB\n"
     ]
    }
   ],
   "source": [
    "# 테스트 데이터셋 로드 및 전처리\n",
    "df_test = pd.read_csv(os.path.join(ROOT_DIR, \"test.csv\"))\n",
    "\n",
    "df_test.info()"
   ]
  },
  {
   "cell_type": "code",
   "execution_count": 36,
   "id": "AEjYnXs-Z2uj",
   "metadata": {
    "id": "AEjYnXs-Z2uj"
   },
   "outputs": [],
   "source": [
    "# 테스트 데이터셋 결측값 처리 (훈련 데이터와 동일한 방식으로 처리)\n",
    "numeric_columns = df_test.select_dtypes(include=['float64', 'int64']).columns\n",
    "non_numeric_columns = df_test.select_dtypes(exclude=['float64', 'int64']).columns\n",
    "\n",
    "df_test[numeric_columns] = df_test[numeric_columns].fillna(df_test[numeric_columns].mean())\n",
    "for col in non_numeric_columns:\n",
    "    df_test[col] = df_test[col].fillna(df_test[col].mode()[0])"
   ]
  },
  {
   "cell_type": "code",
   "execution_count": 37,
   "id": "908d18cb",
   "metadata": {},
   "outputs": [
    {
     "name": "stdout",
     "output_type": "stream",
     "text": [
      "<class 'pandas.core.frame.DataFrame'>\n",
      "RangeIndex: 17361 entries, 0 to 17360\n",
      "Columns: 465 entries, Set ID to target\n",
      "dtypes: float64(351), int64(77), object(37)\n",
      "memory usage: 61.6+ MB\n"
     ]
    }
   ],
   "source": [
    "df_test.info()"
   ]
  },
  {
   "cell_type": "code",
   "execution_count": 38,
   "id": "Uive_F-uaO2D",
   "metadata": {
    "colab": {
     "base_uri": "https://localhost:8080/"
    },
    "id": "Uive_F-uaO2D",
    "outputId": "f95dfc2f-5cdf-4d74-8755-332f055ab2cd"
   },
   "outputs": [
    {
     "name": "stdout",
     "output_type": "stream",
     "text": [
      "Test Accuracy: 0.0000\n"
     ]
    }
   ],
   "source": [
    "# 테스트 데이터셋 피처 선택 (훈련 데이터와 동일한 피처 사용)\n",
    "test_x = df_test[features]\n",
    "\n",
    "# 테스트 데이터셋에 대한 예측 및 정확도 평가\n",
    "test_y_pred = best_model.predict(test_x)\n",
    "test_accuracy = (test_y_pred == df_test['target']).mean()  # 실제 타겟과 예측 값 비교\n",
    "\n",
    "print(f\"Test Accuracy: {test_accuracy:.4f}\")"
   ]
  },
  {
   "cell_type": "markdown",
   "id": "47f18e6a",
   "metadata": {
    "id": "47f18e6a"
   },
   "source": [
    "### 제출 파일 작성\n"
   ]
  },
  {
   "cell_type": "code",
   "execution_count": 39,
   "id": "3128a458",
   "metadata": {
    "colab": {
     "base_uri": "https://localhost:8080/",
     "height": 374
    },
    "id": "3128a458",
    "outputId": "16493996-7ba8-4bd9-b791-d1f6e0cf2a8c"
   },
   "outputs": [],
   "source": [
    "# 제출 데이터 읽어오기 (df_test는 전처리된 데이터가 저장됨)\n",
    "df_sub = pd.read_csv(\"submission.csv\")\n",
    "df_sub[\"target\"] = test_y_pred\n",
    "\n",
    "# 제출 파일 저장\n",
    "df_sub.to_csv(\"submission.csv\", index=False)"
   ]
  },
  {
   "cell_type": "markdown",
   "id": "ec7867ce",
   "metadata": {
    "id": "ec7867ce"
   },
   "source": [
    "**우측 상단의 제출 버튼을 클릭해 결과를 확인하세요**\n"
   ]
  }
 ],
 "metadata": {
  "colab": {
   "provenance": []
  },
  "kernelspec": {
   "display_name": "Python 3 (ipykernel)",
   "language": "python",
   "name": "python3"
  },
  "language_info": {
   "codemirror_mode": {
    "name": "ipython",
    "version": 3
   },
   "file_extension": ".py",
   "mimetype": "text/x-python",
   "name": "python",
   "nbconvert_exporter": "python",
   "pygments_lexer": "ipython3",
   "version": "3.10.13"
  }
 },
 "nbformat": 4,
 "nbformat_minor": 5
}
